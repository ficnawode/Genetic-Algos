{
 "cells": [
  {
   "cell_type": "code",
   "execution_count": 60,
   "metadata": {},
   "outputs": [],
   "source": [
    "from __future__ import annotations\n",
    "import numpy as np \n",
    "from matplotlib import pyplot as plt\n",
    "import itertools\n",
    "from numba import jit, int32, float32\n",
    "from numba.experimental import jitclass"
   ]
  },
  {
   "cell_type": "code",
   "execution_count": 111,
   "metadata": {},
   "outputs": [],
   "source": [
    "\n",
    "@jitclass([\n",
    "    ('id', int32),\n",
    "    ('x',float32),\n",
    "    ('y',float32),\n",
    "])\n",
    "class Point:\n",
    "    def __init__(self,id:int, x:float, y:float):\n",
    "        self.id = id\n",
    "        self.x = x\n",
    "        self.y = y\n",
    "    \n",
    "@jit\n",
    "def distance(p1:Point,p2:Point):\n",
    "    return np.sqrt((p1.x-p2.x)**2 + (p1.y - p2.y)**2)\n",
    "\n",
    "@jit\n",
    "def calculate_path_length(path: list)->float:\n",
    "    length = 0\n",
    "    for i in range(len(path) - 1):\n",
    "        length += distance(path[i], path[i+1])\n",
    "    return length\n",
    "\n",
    "# @jit\n",
    "def find_greedy_salesman_path(points: list)->list:\n",
    "    path = []\n",
    "    remaining_points = points.copy()\n",
    "    first_point_index = np.random.randint(0, len(points) - 1)\n",
    "    current_point = remaining_points.pop(first_point_index)\n",
    "    path.append(current_point)\n",
    "        \n",
    "    while len(remaining_points) > 0:\n",
    "        remaining_points.sort(key= lambda p: distance(current_point, p))\n",
    "        current_point = remaining_points.pop(0)\n",
    "        path.append(current_point)\n",
    "    return path  \n",
    "\n",
    "# @jit\n",
    "def find_brutal_salesman_path(points: list)->list:\n",
    "    assert(len(points) < 9)\n",
    "    points = points.copy()\n",
    "    paths = list(itertools.permutations(points, len(points)))\n",
    "    paths.sort(key=lambda path : calculate_path_length(path), reverse=False)\n",
    "    return paths.pop(0)"
   ]
  },
  {
   "cell_type": "code",
   "execution_count": 115,
   "metadata": {},
   "outputs": [],
   "source": [
    "points = [Point(1,1,2), Point(2,1,3), Point(3,1,4)]\n",
    "\n",
    "# greedy_path\n",
    "brute_path_lengths = []\n",
    "greedy_path_lengths = []\n",
    "random_path_lengths = []\n",
    "\n",
    "np.random.seed(42069)\n",
    "\n",
    "for i in range(1000):\n",
    "    points = [Point(i, np.random.random(), np.random.random()) for i in range(7)]\n",
    "    brute_path_lengths.append(calculate_path_length(find_brutal_salesman_path(points)))\n",
    "    greedy_path_lengths.append(calculate_path_length(find_greedy_salesman_path(points)))\n",
    "    random_path_lengths.append(calculate_path_length(points))\n",
    "    "
   ]
  },
  {
   "cell_type": "code",
   "execution_count": 116,
   "metadata": {},
   "outputs": [
    {
     "data": {
      "image/png": "[encoded data removed]",
      "text/plain": [
       "<Figure size 576x432 with 1 Axes>"
      ]
     },
     "metadata": {
      "needs_background": "light"
     },
     "output_type": "display_data"
    }
   ],
   "source": [
    "plt.figure(figsize=(8,6))\n",
    "\n",
    "plt.hist(random_path_lengths, 50, label='random')\n",
    "plt.hist(brute_path_lengths, 50, label='brute')\n",
    "plt.hist(greedy_path_lengths, 50, label='greedy')\n",
    "\n",
    "plt.legend()\n",
    "plt.show()"
   ]
  },
  {
   "cell_type": "code",
   "execution_count": null,
   "metadata": {},
   "outputs": [],
   "source": []
  }
 ],
 "metadata": {
  "kernelspec": {
   "display_name": "dataconda",
   "language": "python",
   "name": "python3"
  },
  "language_info": {
   "codemirror_mode": {
    "name": "ipython",
    "version": 3
   },
   "file_extension": ".py",
   "mimetype": "text/x-python",
   "name": "python",
   "nbconvert_exporter": "python",
   "pygments_lexer": "ipython3",
   "version": "3.10.4"
  },
  "orig_nbformat": 4,
  "vscode": {
   "interpreter": {
    "hash": "06d5f6a7192f7da15f00af0bef5004458982aa75eb1affdf296843002ced5906"
   }
  }
 },
 "nbformat": 4,
 "nbformat_minor": 2
}
